{
 "cells": [
  {
   "cell_type": "markdown",
   "metadata": {},
   "source": [
    "# Dictionaries, Sets, & Importing Modules"
   ]
  },
  {
   "cell_type": "markdown",
   "metadata": {},
   "source": [
    "## Tasks Today:\n",
    "\n",
    "1) Dictionary <br>\n",
    " &nbsp;&nbsp;&nbsp;&nbsp; a) Declaring (key, value) <br>\n",
    " &nbsp;&nbsp;&nbsp;&nbsp; b) Accessing Values <br>\n",
    " &nbsp;&nbsp;&nbsp;&nbsp; ------ Exercise #1 - Print the eye color of each person in a double nested dict <br>\n",
    " &nbsp;&nbsp;&nbsp;&nbsp; c) Adding New Pairs <br>\n",
    " &nbsp;&nbsp;&nbsp;&nbsp; d) Modifying Values <br>\n",
    " &nbsp;&nbsp;&nbsp;&nbsp; e) Removing Key, Value Pairs <br>\n",
    " &nbsp;&nbsp;&nbsp;&nbsp; f) Looping a Dictionary <br>\n",
    " &nbsp;&nbsp;&nbsp;&nbsp; g) Looping Only Keys <br>\n",
    " &nbsp;&nbsp;&nbsp;&nbsp; h) Looping Only Values <br>\n",
    " &nbsp;&nbsp;&nbsp;&nbsp; ------ Exercise #2 - Create a Function that Prints All Key Value Pairs within a print .format()  <br>\n",
    " &nbsp;&nbsp;&nbsp;&nbsp; i) sorted() <br>\n",
    " &nbsp;&nbsp;&nbsp;&nbsp; j) Lists with Dictionaries <br>\n",
    " &nbsp;&nbsp;&nbsp;&nbsp; k) Dictionaries with Lists <br>\n",
    " &nbsp;&nbsp;&nbsp;&nbsp; l) Dictionaries with Dictionaries <br>\n",
    " &nbsp;&nbsp;&nbsp;&nbsp; ------ Exercise #3 - Write a Function that asks someone's name and address, and then stores that into a dictionary, which prints all names and addresses after they're done putting information in...  <br>\n",
    "2) Dictionaries vs. Lists (over time)<br>\n",
    "3) Set <br>\n",
    " &nbsp;&nbsp;&nbsp;&nbsp; a) Declaring <br>\n",
    " &nbsp;&nbsp;&nbsp;&nbsp; b) .add() <br>\n",
    " &nbsp;&nbsp;&nbsp;&nbsp; c) .remove() <br>\n",
    " &nbsp;&nbsp;&nbsp;&nbsp; d) .union() <br>\n",
    " &nbsp;&nbsp;&nbsp;&nbsp; e) .intersection() <br>\n",
    " &nbsp;&nbsp;&nbsp;&nbsp; f) .difference() <br>\n",
    " &nbsp;&nbsp;&nbsp;&nbsp; g) Frozen Set <br>\n",
    "4) Modules <br>\n",
    " &nbsp;&nbsp;&nbsp;&nbsp; a) Importing Entire Modules <br>\n",
    " &nbsp;&nbsp;&nbsp;&nbsp; b) Importing Methods Only <br>\n",
    " &nbsp;&nbsp;&nbsp;&nbsp; c) Using the 'as' Keyword <br>\n",
    " &nbsp;&nbsp;&nbsp;&nbsp; d) Creating a Module <br>\n",
    "5) Exercises <br>\n",
    " &nbsp;&nbsp;&nbsp;&nbsp; a) Build a Shopping Cart <br>\n",
    " &nbsp;&nbsp;&nbsp;&nbsp; b) Create Your Own Module <br>"
   ]
  },
  {
   "cell_type": "markdown",
   "metadata": {},
   "source": [
    "## Dictionary <br>\n",
    "<p>A collection of data with 'key:value' pairs. Dictionaries are ordered as of Python 3.6</p>"
   ]
  },
  {
   "cell_type": "markdown",
   "metadata": {},
   "source": [
    "##### Declaring (key, value)"
   ]
  },
  {
   "cell_type": "code",
   "execution_count": 7,
   "metadata": {},
   "outputs": [],
   "source": [
    "# keys should be unique\n",
    "# can use numbers or strings as keys\n",
    "\n",
    "d = {}\n",
    "\n",
    "# or \n",
    "\n",
    "\n",
    "d_2 = dict()\n",
    "\n",
    "d_3 = {\n",
    "    'Tom' : '255 Main Street',\n",
    "    'Jerry' : '256 Main Street',\n",
    "    0 : 'This is a value for the key of 0'\n",
    "}\n",
    "\n"
   ]
  },
  {
   "cell_type": "markdown",
   "metadata": {},
   "source": [
    "##### Accessing Values"
   ]
  },
  {
   "cell_type": "code",
   "execution_count": 8,
   "metadata": {},
   "outputs": [
    {
     "name": "stdout",
     "output_type": "stream",
     "text": [
      "This is a value for the key of 0\n"
     ]
    }
   ],
   "source": [
    "# dict[key]\n",
    "d_3['Jerry']\n",
    "print(d_3[0])\n"
   ]
  },
  {
   "cell_type": "markdown",
   "metadata": {},
   "source": [
    "## In-Class Exercise #1 - Print a formatted statement from the dictionary below <br>\n",
    "<p>The output should be '2018 Chevrolet Silverado'</p>"
   ]
  },
  {
   "cell_type": "code",
   "execution_count": 9,
   "metadata": {},
   "outputs": [
    {
     "name": "stdout",
     "output_type": "stream",
     "text": [
      " My car is 2010 Mercedez c300\n"
     ]
    }
   ],
   "source": [
    "# use the dict below\n",
    "\n",
    "truck = {\n",
    "    \"year\": 2010,\n",
    "    'make': 'Mercedez',\n",
    "    'model': 'c300'\n",
    "}\n",
    "\n",
    "print(f\" My car is {truck['year']} {truck['make']} {truck['model']}\")"
   ]
  },
  {
   "cell_type": "markdown",
   "metadata": {},
   "source": [
    "##### Adding New Pairs"
   ]
  },
  {
   "cell_type": "code",
   "execution_count": 10,
   "metadata": {},
   "outputs": [
    {
     "name": "stdout",
     "output_type": "stream",
     "text": [
      "{'Tom': '255 Main Street', 'Jerry': '256 Main Street', 0: 'This is a value for the key of 0', 'Spike': '257 Main Street'}\n"
     ]
    }
   ],
   "source": [
    "# dict[key] = value\n",
    "d_3['Spike'] = '257 Main Street'\n",
    "\n",
    "print(d_3)"
   ]
  },
  {
   "cell_type": "markdown",
   "metadata": {},
   "source": [
    "##### Modifying Values"
   ]
  },
  {
   "cell_type": "code",
   "execution_count": 11,
   "metadata": {},
   "outputs": [
    {
     "data": {
      "text/plain": [
       "{'Tom': '255 Main Street',\n",
       " 'Jerry': '256 Main Street',\n",
       " 0: 'This is a value for the key of 0',\n",
       " 'Spike': '257 Main StreetChicago, IL'}"
      ]
     },
     "execution_count": 11,
     "metadata": {},
     "output_type": "execute_result"
    }
   ],
   "source": [
    "# dict[key] = value\n",
    "placeholder = d_3['Spike']\n",
    "\n",
    "d_3['Spike'] = placeholder + 'Chicago, IL'\n",
    "\n",
    "d_3"
   ]
  },
  {
   "cell_type": "markdown",
   "metadata": {},
   "source": [
    "##### Removing Key, Value Pairs"
   ]
  },
  {
   "cell_type": "code",
   "execution_count": 12,
   "metadata": {},
   "outputs": [
    {
     "data": {
      "text/plain": [
       "{'Tom': '255 Main Street',\n",
       " 'Jerry': '256 Main Street',\n",
       " 'Spike': '257 Main StreetChicago, IL'}"
      ]
     },
     "execution_count": 12,
     "metadata": {},
     "output_type": "execute_result"
    }
   ],
   "source": [
    "# del dict[key]\n",
    "\n",
    "del d_3 [0]\n",
    "\n",
    "d_3"
   ]
  },
  {
   "cell_type": "markdown",
   "metadata": {},
   "source": [
    "##### Looping a Dictionary"
   ]
  },
  {
   "cell_type": "code",
   "execution_count": 15,
   "metadata": {},
   "outputs": [
    {
     "name": "stdout",
     "output_type": "stream",
     "text": [
      "dict_items([('Tom', '255 Main Street'), ('Jerry', '256 Main Street'), ('Spike', '257 Main StreetChicago, IL')])\n",
      "Tom : 255 Main Street\n",
      "Jerry : 256 Main Street\n",
      "Spike : 257 Main StreetChicago, IL\n"
     ]
    }
   ],
   "source": [
    "# .items()\n",
    "# a, b, c = 1, 2, 3\n",
    "\n",
    "print(d_3.items())\n",
    "\n",
    "for name, address in d_3.items():\n",
    "    print(name, ':', address)"
   ]
  },
  {
   "cell_type": "markdown",
   "metadata": {},
   "source": [
    "##### Looping Only Keys"
   ]
  },
  {
   "cell_type": "code",
   "execution_count": 16,
   "metadata": {},
   "outputs": [
    {
     "name": "stdout",
     "output_type": "stream",
     "text": [
      "Tom\n",
      "Jerry\n",
      "Spike\n"
     ]
    }
   ],
   "source": [
    "# .keys()\n",
    "for name in d_3:\n",
    "    print(name)"
   ]
  },
  {
   "cell_type": "markdown",
   "metadata": {},
   "source": [
    "##### Looping Only Values"
   ]
  },
  {
   "cell_type": "code",
   "execution_count": 20,
   "metadata": {},
   "outputs": [
    {
     "name": "stdout",
     "output_type": "stream",
     "text": [
      "['255 Main Street', '256 Main Street', '257 Main StreetChicago, IL']\n"
     ]
    }
   ],
   "source": [
    "value_list = [val for val in d_3.values()]\n",
    "print(value_list)"
   ]
  },
  {
   "cell_type": "code",
   "execution_count": null,
   "metadata": {
    "scrolled": false
   },
   "outputs": [],
   "source": []
  },
  {
   "cell_type": "code",
   "execution_count": 9,
   "metadata": {
    "scrolled": true
   },
   "outputs": [],
   "source": [
    "# .values()\n"
   ]
  },
  {
   "cell_type": "markdown",
   "metadata": {},
   "source": [
    "## In-Class Exercise #2 - Create a Function that Prints All Key Value Pairs within a print .format() <br>\n",
    "<p><b>Output should be:</b><br>\n",
    "Max has blue eyes<br>\n",
    "Lilly has brown eyes<br>\n",
    "Barney has blue eyes<br>\n",
    "etc.\n",
    "</p>"
   ]
  },
  {
   "cell_type": "code",
   "execution_count": 36,
   "metadata": {},
   "outputs": [
    {
     "name": "stdout",
     "output_type": "stream",
     "text": [
      "Max has blue eyes\n",
      "Lilly has brown eyes\n",
      "Barney has blue eyes\n",
      "Larney has brown eyes\n",
      "Ted has purple eyes\n"
     ]
    }
   ],
   "source": [
    "# use the dict below\n",
    "people = {\n",
    "    'Max': 'blue',\n",
    "    'Lilly': 'brown',\n",
    "    'Barney': 'blue',\n",
    "    'Larney': 'brown',\n",
    "    'Ted': 'purple'\n",
    "}\n",
    "\n",
    "for names, people in people.items():\n",
    "    print(names,'has', people, 'eyes')"
   ]
  },
  {
   "cell_type": "markdown",
   "metadata": {},
   "source": [
    "##### sorted()"
   ]
  },
  {
   "cell_type": "code",
   "execution_count": 38,
   "metadata": {},
   "outputs": [
    {
     "ename": "AttributeError",
     "evalue": "'str' object has no attribute 'keys'",
     "output_type": "error",
     "traceback": [
      "\u001b[1;31m---------------------------------------------------------------------------\u001b[0m",
      "\u001b[1;31mAttributeError\u001b[0m                            Traceback (most recent call last)",
      "\u001b[1;32m~\\AppData\\Local\\Temp/ipykernel_19680/1940387622.py\u001b[0m in \u001b[0;36m<module>\u001b[1;34m\u001b[0m\n\u001b[0;32m      3\u001b[0m \u001b[1;33m\u001b[0m\u001b[0m\n\u001b[0;32m      4\u001b[0m \u001b[1;33m\u001b[0m\u001b[0m\n\u001b[1;32m----> 5\u001b[1;33m \u001b[0mprint\u001b[0m\u001b[1;33m(\u001b[0m\u001b[0msorted\u001b[0m\u001b[1;33m(\u001b[0m\u001b[0mpeople\u001b[0m\u001b[1;33m.\u001b[0m\u001b[0mkeys\u001b[0m\u001b[1;33m(\u001b[0m\u001b[1;33m)\u001b[0m\u001b[1;33m)\u001b[0m\u001b[1;33m)\u001b[0m\u001b[1;33m\u001b[0m\u001b[1;33m\u001b[0m\u001b[0m\n\u001b[0m\u001b[0;32m      6\u001b[0m \u001b[0mprint\u001b[0m\u001b[1;33m(\u001b[0m\u001b[0msorted\u001b[0m\u001b[1;33m(\u001b[0m\u001b[0mpeople\u001b[0m\u001b[1;33m.\u001b[0m\u001b[0mvalues\u001b[0m\u001b[1;33m(\u001b[0m\u001b[1;33m)\u001b[0m\u001b[1;33m)\u001b[0m\u001b[1;33m)\u001b[0m\u001b[1;33m\u001b[0m\u001b[1;33m\u001b[0m\u001b[0m\n\u001b[0;32m      7\u001b[0m \u001b[0mprint\u001b[0m\u001b[1;33m(\u001b[0m\u001b[0msorted\u001b[0m\u001b[1;33m(\u001b[0m\u001b[0mpeople\u001b[0m\u001b[1;33m.\u001b[0m\u001b[0mitems\u001b[0m\u001b[1;33m(\u001b[0m\u001b[1;33m)\u001b[0m\u001b[1;33m)\u001b[0m\u001b[1;33m)\u001b[0m\u001b[1;33m\u001b[0m\u001b[1;33m\u001b[0m\u001b[0m\n",
      "\u001b[1;31mAttributeError\u001b[0m: 'str' object has no attribute 'keys'"
     ]
    }
   ],
   "source": [
    "# sorts variables in order\n",
    "# sorted(dict.values()) or dict.keys() or dict.items()\n",
    "\n",
    "\n",
    "print(sorted(people.keys()))\n",
    "print(sorted(people.values()))\n",
    "print(sorted(people.items()))"
   ]
  },
  {
   "cell_type": "markdown",
   "metadata": {},
   "source": [
    "##### List with Dictionaries"
   ]
  },
  {
   "cell_type": "code",
   "execution_count": 43,
   "metadata": {},
   "outputs": [
    {
     "name": "stdout",
     "output_type": "stream",
     "text": [
      "Rob\n",
      "random_girl\n",
      "random_guy\n"
     ]
    }
   ],
   "source": [
    "names = [\"Dave\",\"Sandy\",\"Tony\",{\"random_girl\":\"Barb\",\"random_guy\":\"Rob\"},['anonymous_guy', 'anonymous_girl']]\n",
    "print(names[3]['random_guy'])\n",
    "\n",
    "for key in names[3]:\n",
    "    print(key)"
   ]
  },
  {
   "cell_type": "markdown",
   "metadata": {},
   "source": [
    "##### Dictionaries with Lists"
   ]
  },
  {
   "cell_type": "code",
   "execution_count": 45,
   "metadata": {},
   "outputs": [
    {
     "name": "stdout",
     "output_type": "stream",
     "text": [
      "Johnson\n",
      "45\n",
      "46\n",
      "47\n"
     ]
    }
   ],
   "source": [
    "# be careful when using numbers as keys in dictionaries, don't confuse them with indexes\n",
    "\n",
    "random_data = {\n",
    "    'List_1' : [45,46,47],\n",
    "    '2' : ['Johnson']\n",
    "}\n",
    "\n",
    "print(random_data['2'][0])\n",
    "\n",
    "for i in random_data['List_1']:\n",
    "    print(i)\n"
   ]
  },
  {
   "cell_type": "markdown",
   "metadata": {},
   "source": [
    "##### Dictionaries with Dictionaries"
   ]
  },
  {
   "cell_type": "code",
   "execution_count": 48,
   "metadata": {},
   "outputs": [
    {
     "name": "stdout",
     "output_type": "stream",
     "text": [
      "{'Terrell': {'Latin': ['Taco', 'Arepa', 'Empanada'], 'noodles': ['instant', 'Pho', 'Ramen']}, 'Ryan': {'Latin': ['Tacos', 'Tacos', 'Tacos'], 'Desserts': ['pie', 'ice cream', 'cookies']}, 'josh': {'latin': ['Taco', 'quesadilla', 'torta'], 'noodles': ['vermacelli', 'Pho', 'tsukemen']}, 'Brad': {'Mexican': ['Taco', 'Burrito'], 'Desserts': ['ice cream', 'cookies']}, 'Jackie': {'Latin': ['Tacos', 'Quesadillas', 'Papusas'], 'Asian': ['Pho', 'KBBQ', 'Hot Pot']}, 'Michael Cook': {'Bread': ['Foccacia', 'Boule', 'Joe'], 'noodles': ['linguini', 'farfale', 'elbow']}, 'Garrett': {'Asain': ['drunken noodles', 'sushi', 'pad thia', 'chow mein'], 'Mexican': ['taco', 'quesidilla', 'chimichanga'], 'American': ['hamburger', 'beer', 'fries', 'cheese steak']}, 'Alex': {'latin': ['Papusas', 'Tomales', 'Taco'], 'noodles': ['Ramen', 'Pho', 'Spaghetti']}, 'Jess': {'Latin': ['Burrito', 'Arepa', 'Empanadas'], 'American': ['Chicken Salad', 'Chicken Sandwich', 'fries']}, 'Hootie': {'latin': ['coxhinas', 'burritos', 'qusadilla'], 'italian': ['spaghetti', 'nno pasta', 'meatballs']}, 'Faiber': {'latin': ['Burrito', 'Emapanadas', 'Taquitos'], 'Bakes': ['Bunuleos', 'Pan de Yuca', 'Pandebono']}, 'Dom': {'italian': ['filled pasta', 'sausage', 'cannoli'], 'midwestern': ['corn', 'corn', 'corn']}, 'Dominic': {'Italian': ['Pizza', 'Ravioli', 'Tortellini'], 'Mexican': ['Tacos', 'enchilada']}}\n"
     ]
    }
   ],
   "source": [
    "# to get values, must traverse through keys\n",
    "\n",
    "food_dict = {\n",
    "    \"Terrell\": {\n",
    "        \"Latin\": ['Taco','Arepa','Empanada'],\n",
    "        'noodles': ['instant','Pho','Ramen']\n",
    "    },\n",
    "     \"Ryan\": {\n",
    "        \"Latin\": [\"Tacos\",'Tacos','Tacos'],\n",
    "        \"Desserts\": [\"pie\",'ice cream','cookies']\n",
    "    },\n",
    "    \"josh\": {\n",
    "        \"latin\": ['Taco','quesadilla','torta'],\n",
    "        'noodles': ['vermacelli','Pho','tsukemen']\n",
    "    },\n",
    "    \"Brad\": {\n",
    "        \"Mexican\": ['Taco', 'Burrito'],\n",
    "        \"Desserts\": ['ice cream', 'cookies']\n",
    "    },\n",
    "    \"Jackie\": {\n",
    "        \"Latin\": [\"Tacos\",'Quesadillas','Papusas'],\n",
    "        \"Asian\": [\"Pho\", 'KBBQ','Hot Pot']\n",
    "    },\n",
    "    \"Michael Cook\": {\n",
    "        \"Bread\": [\"Foccacia\", \"Boule\", \"Joe\"],\n",
    "        \"noodles\": [\"linguini\", \"farfale\", \"elbow\"]\n",
    "    },\n",
    "    \"Garrett\": {\n",
    "        \"Asain\": [\"drunken noodles\", 'sushi', 'pad thia', 'chow mein'],\n",
    "        \"Mexican\" : [\"taco\", \"quesidilla\", \"chimichanga\"],\n",
    "        \"American\" : [\"hamburger\", \"beer\", \"fries\", \"cheese steak\"]\n",
    "    },\n",
    "    \"Alex\" : {\n",
    "        \"latin\" : ['Papusas', 'Tomales', 'Taco'],\n",
    "        \"noodles\" : ['Ramen', 'Pho', 'Spaghetti']  \n",
    "    },\n",
    "    \"Jess\": {\n",
    "        \"Latin\": [\"Burrito\",'Arepa','Empanadas'],\n",
    "        \"American\": [\"Chicken Salad\",'Chicken Sandwich','fries']\n",
    "    },\n",
    "    \"Hootie\": {\n",
    "        \"latin\": [\"coxhinas\", \"burritos\", \"qusadilla\"],\n",
    "        \"italian\": [\"spaghetti\", \"nno pasta\", \"meatballs\"]\n",
    "    },\n",
    "    'Faiber' : {\n",
    "        'latin' : ['Burrito','Emapanadas','Taquitos'],\n",
    "        'Bakes' : ['Bunuleos','Pan de Yuca','Pandebono']\n",
    "    },\n",
    "    \"Dom\" : {\n",
    "        \"italian\": ['filled pasta','sausage','cannoli'],\n",
    "        'midwestern':['corn','corn','corn']\n",
    "    },\n",
    "    \"Dominic\":{\n",
    "    \"Italian\":['Pizza','Ravioli','Tortellini'],\n",
    "    \"Mexican\":['Tacos','enchilada']\n",
    "    }\n",
    "\n",
    "}\n",
    "print(food_dict)"
   ]
  },
  {
   "cell_type": "code",
   "execution_count": 66,
   "metadata": {},
   "outputs": [
    {
     "name": "stdout",
     "output_type": "stream",
     "text": [
      "Terrell's favorite food grops are Latin, noodles\n"
     ]
    }
   ],
   "source": [
    "the_favs = \"Terrell's favorite food grops are \"\n",
    "for favs in food_dict['Terrell']:\n",
    "    the_favs += favs + ', '\n",
    "\n",
    "print(the_favs[:-2])"
   ]
  },
  {
   "cell_type": "code",
   "execution_count": 79,
   "metadata": {},
   "outputs": [
    {
     "ename": "SyntaxError",
     "evalue": "invalid syntax (Temp/ipykernel_19680/3298766343.py, line 4)",
     "output_type": "error",
     "traceback": [
      "\u001b[1;36m  File \u001b[1;32m\"C:\\Users\\faibe\\AppData\\Local\\Temp/ipykernel_19680/3298766343.py\"\u001b[1;36m, line \u001b[1;32m4\u001b[0m\n\u001b[1;33m    for food_favs in food_dict[name],\u001b[0m\n\u001b[1;37m                                     ^\u001b[0m\n\u001b[1;31mSyntaxError\u001b[0m\u001b[1;31m:\u001b[0m invalid syntax\n"
     ]
    }
   ],
   "source": [
    "# print(\"Everyone's favorite:\\n\")\n",
    "\n",
    "\n"
   ]
  },
  {
   "cell_type": "markdown",
   "metadata": {},
   "source": [
    "## Dictionaries vs. Lists (over time) Example of RUNTIME\n",
    "### When inputting values in a Dictionary vs List"
   ]
  },
  {
   "cell_type": "code",
   "execution_count": 95,
   "metadata": {},
   "outputs": [],
   "source": [
    "import time \n",
    "\n",
    "# Generate a dictionary\n",
    "d = {}\n",
    "\n",
    "for i in range(10000000):\n",
    "    d[i] = \"value\" + str(i)\n",
    "    \n",
    "# Generate a list\n",
    "big_list = [x for x in range(10000000)]"
   ]
  },
  {
   "cell_type": "code",
   "execution_count": 85,
   "metadata": {},
   "outputs": [
    {
     "name": "stdout",
     "output_type": "stream",
     "text": [
      "value9999999\n",
      "Elapsed time for dictionary: 0.0\n",
      "9999999\n",
      "Elapsed time for list: 0.8805608749389648\n"
     ]
    }
   ],
   "source": [
    "# track the time for the dictionary\n",
    "start_time = time.time()\n",
    "print(d[9999999])\n",
    "\n",
    "end_time = time.time() - start_time\n",
    "print(f'Elapsed time for dictionary: {end_time}')\n",
    "\n",
    "# Track time for the list\n",
    "\n",
    "start_time = time.time()\n",
    "\n",
    "for i in range(len(big_list)):\n",
    "    if i == 9999999:\n",
    "        print(i)\n",
    "        \n",
    "end_time = time.time() - start_time\n",
    "print(\"Elapsed time for list: {}\".format(end_time))\n"
   ]
  },
  {
   "cell_type": "markdown",
   "metadata": {},
   "source": [
    "## Exercise #3 - Write a Function that asks someone's name and address, and then stores that into a dictionary, and continues to do so until they choose to 'quit'. Once they quit, the program should print all names and addresses. <br>\n",
    "<p>\n",
    "<b>Proper steps:</b><br>\n",
    "step 1: write a function that takes in information and stores it in a dictionary<br>\n",
    "step 2: define an empty dictionary to work with<br>\n",
    "step 3: create our loop, which asks the user for information until they quit<br>\n",
    "step 4: ask for the information, and store it into variables<br>\n",
    "step 5: check if the user types quit<br>\n",
    "step 5a: print out all information<br>\n",
    "step 5b: break out of the loop<br>\n",
    "step 6: if they didn't quit, add the information to the dictionary<br>\n",
    "step 7: invoke the function by calling it\n",
    "</p>"
   ]
  },
  {
   "cell_type": "code",
   "execution_count": 94,
   "metadata": {},
   "outputs": [
    {
     "name": "stdout",
     "output_type": "stream",
     "text": [
      "Enter your fav dessert or quit! : wdwd\n",
      "Enter your fav dessert or quit! : qfwefe\n",
      "Enter your fav dessert or quit! : fqfqef\n",
      "Enter your fav dessert or quit! : quit\n"
     ]
    }
   ],
   "source": [
    "from IPython.display import clear_output\n",
    "\n",
    "\n",
    "# Step 1\n",
    "def storeInfo():\n",
    "# step 2\n",
    "    a_dict = {}\n",
    "\n",
    "while True:\n",
    "    dessert = input('Enter your fav dessert or quit! : ')\n",
    "    if dessert == \"quit\":\n",
    "        break\n",
    "    toppings = input('Enter your toppings : ')"
   ]
  },
  {
   "cell_type": "markdown",
   "metadata": {},
   "source": [
    "## Set <br>\n",
    "<p>A Set is an unordered collection data type that is iterable (loop), mutable, and has no duplicate elements.<br>Major advantage is that it is highly optimized in checking if something is in the set, as opposed to checking if something is in a list.</p>"
   ]
  },
  {
   "cell_type": "markdown",
   "metadata": {},
   "source": [
    "##### Declaring"
   ]
  },
  {
   "cell_type": "code",
   "execution_count": 97,
   "metadata": {},
   "outputs": [
    {
     "name": "stdout",
     "output_type": "stream",
     "text": [
      "{8, 1, 4}\n",
      "3\n",
      "['__and__', '__class__', '__class_getitem__', '__contains__', '__delattr__', '__dir__', '__doc__', '__eq__', '__format__', '__ge__', '__getattribute__', '__gt__', '__hash__', '__iand__', '__init__', '__init_subclass__', '__ior__', '__isub__', '__iter__', '__ixor__', '__le__', '__len__', '__lt__', '__ne__', '__new__', '__or__', '__rand__', '__reduce__', '__reduce_ex__', '__repr__', '__ror__', '__rsub__', '__rxor__', '__setattr__', '__sizeof__', '__str__', '__sub__', '__subclasshook__', '__xor__', 'add', 'clear', 'copy', 'difference', 'difference_update', 'discard', 'intersection', 'intersection_update', 'isdisjoint', 'issubset', 'issuperset', 'pop', 'remove', 'symmetric_difference', 'symmetric_difference_update', 'union', 'update']\n"
     ]
    }
   ],
   "source": [
    "# set()\n",
    "# no order {3, 2, 1} outputs as {1, 2, 3}\n",
    "\n",
    "nums = {4,1,8,4}\n",
    "print(nums)\n",
    "print(len(nums))\n",
    "print(dir(nums))"
   ]
  },
  {
   "cell_type": "markdown",
   "metadata": {},
   "source": [
    "##### .add()"
   ]
  },
  {
   "cell_type": "code",
   "execution_count": 98,
   "metadata": {},
   "outputs": [
    {
     "name": "stdout",
     "output_type": "stream",
     "text": [
      "{8, 1, 4, 22}\n"
     ]
    }
   ],
   "source": [
    "# set.add()\n",
    "nums.add(22)\n",
    "print(nums)"
   ]
  },
  {
   "cell_type": "markdown",
   "metadata": {},
   "source": [
    "##### .remove()"
   ]
  },
  {
   "cell_type": "code",
   "execution_count": 99,
   "metadata": {},
   "outputs": [
    {
     "name": "stdout",
     "output_type": "stream",
     "text": [
      "{8, 1, 4}\n"
     ]
    }
   ],
   "source": [
    "# removes by value\n",
    "# set.remove()\n",
    "# nums.remove(56)\n",
    "nums.remove(22)\n",
    "print(nums)"
   ]
  },
  {
   "cell_type": "markdown",
   "metadata": {},
   "source": [
    "##### .union() "
   ]
  },
  {
   "cell_type": "code",
   "execution_count": 106,
   "metadata": {},
   "outputs": [
    {
     "name": "stdout",
     "output_type": "stream",
     "text": [
      "{1, 2, 3, 4, 5, 6}\n",
      "{1, 2, 3, 4, 5, 6}\n"
     ]
    }
   ],
   "source": [
    "# Returns a union of two sets, can also use '|' or set.union(set)\n",
    "# joins all numbers, gets rid of duplicates\n",
    "s1 = {1,2,3,4}\n",
    "s2 = {3,4,5,6}\n",
    "\n",
    "s3 = s1.union(s2)\n",
    "\n",
    "# or\n",
    "\n",
    "s4 = s1 | s2\n",
    "print(s3)\n",
    "print(s4)\n"
   ]
  },
  {
   "cell_type": "markdown",
   "metadata": {},
   "source": [
    "##### .intersection()"
   ]
  },
  {
   "cell_type": "code",
   "execution_count": 107,
   "metadata": {},
   "outputs": [
    {
     "name": "stdout",
     "output_type": "stream",
     "text": [
      "{3, 4}\n",
      "{3, 4}\n"
     ]
    }
   ],
   "source": [
    "# Returns an intersection of two sets, can also use '&'\n",
    "# only takes similar elements from both sets\n",
    "s5 = s1.intersection(s2)\n",
    "print(s5)\n",
    "\n",
    "s6 = s1 & s2\n",
    "print(s6)"
   ]
  },
  {
   "cell_type": "markdown",
   "metadata": {},
   "source": [
    "##### .difference()"
   ]
  },
  {
   "cell_type": "code",
   "execution_count": 111,
   "metadata": {},
   "outputs": [
    {
     "name": "stdout",
     "output_type": "stream",
     "text": [
      "{1, 2}\n",
      "{5, 6}\n"
     ]
    }
   ],
   "source": [
    "# Returns a set containing all the elements of invoking set that are not in the second set, can also use '-'\n",
    "# only takes values from the first set that are not in the second set\n",
    "# order matters\n",
    "\n",
    "s7 = s1.difference(s2)\n",
    "print(s7)\n",
    "\n",
    "s8 = s2 - s1\n",
    "print(s8)\n"
   ]
  },
  {
   "cell_type": "markdown",
   "metadata": {},
   "source": [
    "##### .clear()"
   ]
  },
  {
   "cell_type": "code",
   "execution_count": 112,
   "metadata": {},
   "outputs": [
    {
     "name": "stdout",
     "output_type": "stream",
     "text": [
      "set()\n"
     ]
    }
   ],
   "source": [
    "# Empties the whole set\n",
    "# set.clear()\n",
    "s8.clear()\n",
    "print(s8)\n"
   ]
  },
  {
   "cell_type": "code",
   "execution_count": null,
   "metadata": {},
   "outputs": [],
   "source": []
  },
  {
   "cell_type": "markdown",
   "metadata": {},
   "source": [
    "##### Frozenset <br>\n",
    "<p>Frozen sets are immutable objects that only support methods and operators that produce a result without affecting the frozen set or sets to which they are applied.</p><br><b>Unique & Immutable</b>"
   ]
  },
  {
   "cell_type": "code",
   "execution_count": 113,
   "metadata": {},
   "outputs": [
    {
     "name": "stdout",
     "output_type": "stream",
     "text": [
      "frozenset({1, 2, 3, 4, 5, 6})\n"
     ]
    },
    {
     "data": {
      "text/plain": [
       "frozenset({1, 2, 3, 4, 5, 6})"
      ]
     },
     "execution_count": 113,
     "metadata": {},
     "output_type": "execute_result"
    }
   ],
   "source": [
    "# frozenset([])\n",
    "my_frozen_set = frozenset(s3)\n",
    "print(my_frozen_set)\n",
    "my_frozen_set"
   ]
  },
  {
   "cell_type": "markdown",
   "metadata": {},
   "source": [
    "## Modules"
   ]
  },
  {
   "cell_type": "markdown",
   "metadata": {},
   "source": [
    "##### Importing Entire Modules"
   ]
  },
  {
   "cell_type": "code",
   "execution_count": 117,
   "metadata": {},
   "outputs": [
    {
     "name": "stdout",
     "output_type": "stream",
     "text": [
      "3\n"
     ]
    }
   ],
   "source": [
    "# import \n",
    "# or \n",
    "# from 'xxx' import *\n",
    "import math\n",
    "\n",
    "print(math.floor(math.pi))"
   ]
  },
  {
   "cell_type": "markdown",
   "metadata": {},
   "source": [
    "##### Importing Methods Only"
   ]
  },
  {
   "cell_type": "code",
   "execution_count": 118,
   "metadata": {},
   "outputs": [
    {
     "name": "stdout",
     "output_type": "stream",
     "text": [
      "3\n"
     ]
    }
   ],
   "source": [
    "# from 'xxx' import 'xxx'\n",
    "# from math import floor\n",
    "from math import floor, pi\n",
    "\n",
    "print(floor(pi))"
   ]
  },
  {
   "cell_type": "markdown",
   "metadata": {},
   "source": [
    "##### Using the 'as' Keyword"
   ]
  },
  {
   "cell_type": "code",
   "execution_count": 121,
   "metadata": {},
   "outputs": [
    {
     "name": "stdout",
     "output_type": "stream",
     "text": [
      "3\n"
     ]
    }
   ],
   "source": [
    "# from 'xxx' import 'xxx' as 'xxx' or import 'xxx' as 'xxx'\n",
    "# from math import floor as f\n",
    "from math import floor as f , pi as p\n",
    "print(f(p))\n"
   ]
  },
  {
   "cell_type": "markdown",
   "metadata": {},
   "source": [
    "##### Creating a Module"
   ]
  },
  {
   "cell_type": "code",
   "execution_count": 122,
   "metadata": {},
   "outputs": [
    {
     "ename": "ModuleNotFoundError",
     "evalue": "No module named 'module'",
     "output_type": "error",
     "traceback": [
      "\u001b[1;31m---------------------------------------------------------------------------\u001b[0m",
      "\u001b[1;31mModuleNotFoundError\u001b[0m                       Traceback (most recent call last)",
      "\u001b[1;32m~\\AppData\\Local\\Temp/ipykernel_19680/588978209.py\u001b[0m in \u001b[0;36m<module>\u001b[1;34m\u001b[0m\n\u001b[1;32m----> 1\u001b[1;33m \u001b[1;32mfrom\u001b[0m \u001b[0mmodule\u001b[0m \u001b[1;32mimport\u001b[0m \u001b[0mprintName\u001b[0m \u001b[1;32mas\u001b[0m \u001b[0mpn\u001b[0m\u001b[1;33m\u001b[0m\u001b[1;33m\u001b[0m\u001b[0m\n\u001b[0m\u001b[0;32m      2\u001b[0m \u001b[1;33m\u001b[0m\u001b[0m\n\u001b[0;32m      3\u001b[0m \u001b[0mpn\u001b[0m\u001b[1;33m(\u001b[0m\u001b[1;34m'Faiber'\u001b[0m\u001b[1;33m)\u001b[0m\u001b[1;33m\u001b[0m\u001b[1;33m\u001b[0m\u001b[0m\n",
      "\u001b[1;31mModuleNotFoundError\u001b[0m: No module named 'module'"
     ]
    }
   ],
   "source": [
    "from module import printName as pn\n",
    "\n",
    "pn('Faiber')\n"
   ]
  },
  {
   "cell_type": "markdown",
   "metadata": {},
   "source": [
    "# Exercises"
   ]
  },
  {
   "cell_type": "markdown",
   "metadata": {},
   "source": [
    "### 1) Build a Shopping Cart <br>\n",
    "<p><b>You can use either lists or dictionaries. The program should have the following capabilities:</b><br><br>\n",
    "1) Takes in input <br>\n",
    "2) Stores user input into a dictionary or list <br>\n",
    "3) The User can add or delete items <br>\n",
    "4) The User can see current shopping list <br>\n",
    "5) The program Loops until user 'quits' <br>\n",
    "6) Upon quiting the program, print out all items in the user's list <br>\n",
    "</p>"
   ]
  },
  {
   "cell_type": "code",
   "execution_count": 3,
   "metadata": {},
   "outputs": [
    {
     "name": "stdout",
     "output_type": "stream",
     "text": [
      "\n",
      "\n",
      "    Hello! welcome to My store,\n",
      "    YES, is mine.\n",
      "\n",
      "\n",
      "Do you want to : Show/Add/Delete or Quit? heleo\n",
      "Please make a selection\n",
      "Do you want to : Show/Add/Delete or Quit? ewbf\n",
      "Please make a selection\n",
      "Do you want to : Show/Add/Delete or Quit? efw\n",
      "Please make a selection\n",
      "Do you want to : Show/Add/Delete or Quit? ewge\n",
      "Please make a selection\n",
      "Do you want to : Show/Add/Delete or Quit? \n",
      "Please make a selection\n",
      "Do you want to : Show/Add/Delete or Quit? geegw\n",
      "Please make a selection\n",
      "Do you want to : Show/Add/Delete or Quit? delete\n",
      "what item do you want to delete? id\n",
      "Do you want to : Show/Add/Delete or Quit? show\n",
      "['potatos', 'papas']\n",
      "Please make a selection\n",
      "Do you want to : Show/Add/Delete or Quit? delete\n",
      "what item do you want to delete? papas\n",
      "['potatos']\n",
      "Do you want to : Show/Add/Delete or Quit? show\n",
      "['potatos']\n",
      "Please make a selection\n",
      "Do you want to : Show/Add/Delete or Quit? quit\n",
      "['potatos']\n",
      "Thanks for Visiting!\n"
     ]
    }
   ],
   "source": [
    "from IPython.display import clear_output\n",
    "\n",
    "# Ask the user four bits of input: Do you want to : Show/Add/Delete or Quit?\n",
    "\n",
    "\n",
    "welcome_msg = \"\"\"\n",
    "\n",
    "    Hello! welcome to My store,\n",
    "    YES, is mine.\n",
    "\n",
    "\"\"\"\n",
    "\n",
    "\n",
    "print(welcome_msg)\n",
    "\n",
    "while True:\n",
    "    \n",
    "    costumer_input = input('Do you want to : Show/Add/Delete or Quit? ').lower()\n",
    "    if costumer_input == 'quit':\n",
    "        print(items_stored)\n",
    "        print('Thanks for Visiting!')\n",
    "        break\n",
    "        items_stored = []\n",
    "    if costumer_input == 'show':\n",
    "        print(items_stored)\n",
    "\n",
    "    if costumer_input == 'add':\n",
    "        costumer_item = input('What would you like to add to your shopping list? ').lower()\n",
    "        items_stored.append(costumer_item)\n",
    "        print(items_stored)\n",
    "\n",
    "    if costumer_input == 'delete':\n",
    "        delete_items = input('what item do you want to delete? ')\n",
    "        if delete_items in items_stored:\n",
    "            items_stored.remove(delete_items)\n",
    "            print(items_stored)\n",
    "            \n",
    "\n",
    "    else:\n",
    "        print('Please make a selection')\n",
    "        continue\n",
    "\n"
   ]
  },
  {
   "cell_type": "markdown",
   "metadata": {},
   "source": [
    "### 2) Create a Module in VS Code and Import It into jupyter notebook <br>\n",
    "<p><b>Module should have the following capabilities:</b><br><br>\n",
    "1) Has a function to calculate the square footage of a house <br>\n",
    "    <b>Reminder of Formula: Length X Width == Area<br>\n",
    "        <hr>\n",
    "2) Has a function to calculate the circumference of a circle <br><br>\n",
    "<b>Program in Jupyter Notebook should take in user input and use imported functions to calculate a circle's circumference or a houses square footage</b>\n",
    "</p>"
   ]
  },
  {
   "cell_type": "code",
   "execution_count": null,
   "metadata": {},
   "outputs": [],
   "source": []
  },
  {
   "cell_type": "code",
   "execution_count": null,
   "metadata": {},
   "outputs": [],
   "source": []
  }
 ],
 "metadata": {
  "kernelspec": {
   "display_name": "Python 3 (ipykernel)",
   "language": "python",
   "name": "python3"
  },
  "language_info": {
   "codemirror_mode": {
    "name": "ipython",
    "version": 3
   },
   "file_extension": ".py",
   "mimetype": "text/x-python",
   "name": "python",
   "nbconvert_exporter": "python",
   "pygments_lexer": "ipython3",
   "version": "3.9.7"
  }
 },
 "nbformat": 4,
 "nbformat_minor": 2
}
